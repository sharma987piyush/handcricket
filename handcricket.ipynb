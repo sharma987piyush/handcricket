{
 "cells": [
  {
   "cell_type": "code",
   "execution_count": 1,
   "id": "6e86e288-a69d-4937-9772-d2425c905123",
   "metadata": {},
   "outputs": [
    {
     "name": "stdout",
     "output_type": "stream",
     "text": [
      "what would you like to choose even or odd ??\n"
     ]
    },
    {
     "name": "stdin",
     "output_type": "stream",
     "text": [
      "user odd\n"
     ]
    },
    {
     "name": "stdout",
     "output_type": "stream",
     "text": [
      "even\n",
      "you lose the toss\n",
      "give your delivery 0\n"
     ]
    },
    {
     "name": "stdin",
     "output_type": "stream",
     "text": [
      "player 1\n"
     ]
    },
    {
     "name": "stdout",
     "output_type": "stream",
     "text": [
      "Opponent score 3\n",
      "give your delivery 1\n"
     ]
    },
    {
     "name": "stdin",
     "output_type": "stream",
     "text": [
      "player 3\n"
     ]
    },
    {
     "name": "stdout",
     "output_type": "stream",
     "text": [
      "Opponent score 1\n",
      "give your delivery 3\n"
     ]
    },
    {
     "name": "stdin",
     "output_type": "stream",
     "text": [
      "player 5\n"
     ]
    },
    {
     "name": "stdout",
     "output_type": "stream",
     "text": [
      "Opponent score 5\n"
     ]
    }
   ],
   "source": [
    "import random\n",
    "toss=[\"even\",\"odd\"]\n",
    "play=[\"batting\",\"bowling\"]\n",
    "run=[1,2,3,4,5,6]\n",
    "AI=random.choice(run)\n",
    "print(\"what would you like to choose even or odd ??\")\n",
    "user=input(\"user\")\n",
    "umpire=random.choice(toss)\n",
    "print(umpire)\n",
    "if umpire==user:\n",
    "    user=input(\"call\")\n",
    "else:\n",
    "    virat=random.choice(play)\n",
    "if user==\"batting\":\n",
    "    player=0\n",
    "    while player!=AI:\n",
    "        AI=random.choice(run)\n",
    "        print(\"your score\", player)\n",
    "        player=int(input(\"player\"))\n",
    "        if player<=6:\n",
    "            print(\"bowler choose\",AI)\n",
    "        else:\n",
    "            break\n",
    "        if player==AI:\n",
    "            break\n",
    "elif user==\"bowling\":\n",
    "    player=0\n",
    "    while player!=AI:\n",
    "        AI=random.choice(run)\n",
    "        print(\"give your delivery\", player)\n",
    "        player=int(input(\"player\"))\n",
    "        if player<=6:\n",
    "            print(\"Opponent score\",AI)\n",
    "        else:\n",
    "            break\n",
    "        if player==AI:\n",
    "            break\n",
    "else:\n",
    "    print(\"you lose the toss\")\n",
    "if virat==\"batting\":\n",
    "    player=0\n",
    "    while player!=AI:\n",
    "        AI=random.choice(run)\n",
    "        print(\"your score\", player)\n",
    "        player=int(input(\"player\"))\n",
    "        if player<=6:\n",
    "            print(\"bowler choose\",AI)\n",
    "        else:\n",
    "            break\n",
    "        if player==AI:\n",
    "            break\n",
    "elif virat==\"bowling\":\n",
    "    player=0\n",
    "    while player!=AI:\n",
    "        AI=random.choice(run)\n",
    "        print(\"give your delivery\", player)\n",
    "        player=int(input(\"player\"))\n",
    "        if player<=6:\n",
    "            print(\"Opponent score\",AI)\n",
    "        else:\n",
    "            break\n",
    "        if player==AI:\n",
    "            break\n",
    "else:\n",
    "    print(\"comatozze is a best pornstar\")"
   ]
  },
  {
   "cell_type": "code",
   "execution_count": 28,
   "id": "7b7cee39-87b5-457c-acb5-532b12ef7004",
   "metadata": {},
   "outputs": [
    {
     "name": "stdout",
     "output_type": "stream",
     "text": [
      "2\n"
     ]
    }
   ],
   "source": []
  },
  {
   "cell_type": "code",
   "execution_count": null,
   "id": "db1d1712-e3b8-47fb-88bb-f0d71911e942",
   "metadata": {},
   "outputs": [],
   "source": []
  }
 ],
 "metadata": {
  "kernelspec": {
   "display_name": "Python 3 (ipykernel)",
   "language": "python",
   "name": "python3"
  },
  "language_info": {
   "codemirror_mode": {
    "name": "ipython",
    "version": 3
   },
   "file_extension": ".py",
   "mimetype": "text/x-python",
   "name": "python",
   "nbconvert_exporter": "python",
   "pygments_lexer": "ipython3",
   "version": "3.12.7"
  }
 },
 "nbformat": 4,
 "nbformat_minor": 5
}
